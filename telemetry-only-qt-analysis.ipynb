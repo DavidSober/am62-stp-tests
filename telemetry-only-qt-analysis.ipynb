{
 "cells": [
  {
   "cell_type": "markdown",
   "metadata": {},
   "source": [
    "# Websockets "
   ]
  },
  {
   "cell_type": "code",
   "execution_count": null,
   "metadata": {},
   "outputs": [
    {
     "name": "stderr",
     "output_type": "stream",
     "text": [
      "QSocketNotifier: Can only be used with threads started with QThread\n"
     ]
    },
    {
     "ename": "SystemExit",
     "evalue": "0",
     "output_type": "error",
     "traceback": [
      "An exception has occurred, use %tb to see the full traceback.\n",
      "\u001b[0;31mSystemExit\u001b[0m\u001b[0;31m:\u001b[0m 0\n"
     ]
    },
    {
     "name": "stderr",
     "output_type": "stream",
     "text": [
      "/home/davidsober/.local/lib/python3.10/site-packages/IPython/core/interactiveshell.py:3587: UserWarning: To exit: use 'exit', 'quit', or Ctrl-D.\n",
      "  warn(\"To exit: use 'exit', 'quit', or Ctrl-D.\", stacklevel=1)\n"
     ]
    },
    {
     "name": "stdout",
     "output_type": "stream",
     "text": [
      "WebSocket error: timed out during opening handshake\n"
     ]
    }
   ],
   "source": [
    "import sys\n",
    "import asyncio\n",
    "import websockets\n",
    "import json\n",
    "from PyQt5.QtWidgets import QApplication, QWidget, QVBoxLayout, QLabel\n",
    "from PyQt5.QtCore import QThread, pyqtSignal\n",
    "\n",
    "\n",
    "class WebSocketThread(QThread):\n",
    "    \"\"\"Handles WebSocket connection in a separate thread to avoid freezing the UI.\"\"\"\n",
    "    telemetry_received = pyqtSignal(str, str, str)  # Emit status, battery, latency\n",
    "\n",
    "    async def receive_telemetry(self):\n",
    "        \"\"\"Connects to the WebSocket server and receives telemetry data asynchronously.\"\"\"\n",
    "        uri = \"ws://192.168.2.2:5003\"  # TI board's IP address\n",
    "\n",
    "        try:\n",
    "            async with websockets.connect(uri) as websocket:\n",
    "                print(f\"Connected to {uri}\")\n",
    "\n",
    "                while True:\n",
    "                    message = await websocket.recv()\n",
    "                    data = json.loads(message)\n",
    "\n",
    "                    latency = data.get(\"latency\", 0)\n",
    "                    battery = data.get(\"battery\", 0)\n",
    "                    status = data.get(\"status\", \"N/A\")\n",
    "\n",
    "                    self.telemetry_received.emit(status, f\"{battery:.1f}%\", f\"{latency:.2f} ms\")  # Send to UI\n",
    "\n",
    "        except websockets.ConnectionClosed:\n",
    "            print(\"Connection closed\")\n",
    "        except Exception as e:\n",
    "            print(f\"WebSocket error: {e}\")\n",
    "\n",
    "    def run(self):\n",
    "        \"\"\"Runs the WebSocket event loop inside QThread.\"\"\"\n",
    "        loop = asyncio.new_event_loop()\n",
    "        asyncio.set_event_loop(loop)\n",
    "        loop.run_until_complete(self.receive_telemetry())\n",
    "\n",
    "\n",
    "class TelemetryApp(QWidget):\n",
    "    def __init__(self):\n",
    "        super().__init__()\n",
    "        self.initUI()\n",
    "\n",
    "        # Start WebSocket thread\n",
    "        self.websocket_thread = WebSocketThread()\n",
    "        self.websocket_thread.telemetry_received.connect(self.update_telemetry)\n",
    "        self.websocket_thread.start()\n",
    "\n",
    "    def initUI(self):\n",
    "        layout = QVBoxLayout()\n",
    "\n",
    "        self.status_label = QLabel(\"Status: N/A\", self)\n",
    "        self.battery_label = QLabel(\"Battery: N/A\", self)\n",
    "        self.latency_label = QLabel(\"Latency: N/A\", self)\n",
    "\n",
    "        layout.addWidget(self.status_label)\n",
    "        layout.addWidget(self.battery_label)\n",
    "        layout.addWidget(self.latency_label)\n",
    "\n",
    "        self.setLayout(layout)\n",
    "        self.setWindowTitle(\"Telemetry Monitor\")\n",
    "        self.resize(300, 200)\n",
    "\n",
    "    def update_telemetry(self, status, battery, latency):\n",
    "        \"\"\"Update telemetry labels in the UI.\"\"\"\n",
    "        self.status_label.setText(f\"Status: {status}\")\n",
    "        self.battery_label.setText(f\"Battery: {battery}\")\n",
    "        self.latency_label.setText(f\"Latency: {latency}\")\n",
    "\n",
    "        print(f\"Updated UI -> Status: {status}, Battery: {battery}, Latency: {latency}\")  # Debugging\n",
    "\n",
    "\n",
    "if __name__ == \"__main__\":\n",
    "    app = QApplication(sys.argv)\n",
    "    window = TelemetryApp()\n",
    "    window.show()\n",
    "    sys.exit(app.exec())\n"
   ]
  },
  {
   "cell_type": "markdown",
   "metadata": {},
   "source": [
    "chat explanation of uri vs url \n",
    "Feature\tURI (Uniform Resource Identifier)\tURL (Uniform Resource Locator)\n",
    "Definition\tA general term for identifying a resource.\tA specific type of URI that provides a way to locate a resource."
   ]
  },
  {
   "cell_type": "code",
   "execution_count": null,
   "metadata": {},
   "outputs": [],
   "source": [
    "class WebSocketThread(QThread):\n",
    "    \"\"\"Handles WebSocket connection in a separate thread to avoid freezing the UI.\"\"\"\n",
    "    telemetry_received = pyqtSignal(str, str, str)  # Emit status, battery, latency\n",
    "\n"
   ]
  },
  {
   "cell_type": "markdown",
   "metadata": {},
   "source": [
    "class inherits from QThread which is he Qt's threading module \n",
    "Here is what chat says when comparing QThread vs multiprocesing \n",
    "1. QThread (Multithreading)\n",
    "\n",
    "    Uses threads, not processes, meaning all threads share the same memory space.\n",
    "    Lower overhead because creating and managing threads is typically faster than creating new processes.\n",
    "    Less CPU usage in many cases because context switching between threads is cheaper than switching between processes.\n",
    "    Limited by Python's GIL (Global Interpreter Lock) if you’re doing CPU-bound tasks in Python, but if your work is mostly I/O-bound (e.g., network requests, file handling, GUI updates), QThread is often the better choice.\n",
    "\n",
    "2. Multiprocessing (New Processes)\n",
    "\n",
    "    Creates separate processes, which do not share memory directly.\n",
    "    Higher CPU overhead because each process has its own memory space and needs inter-process communication (IPC) mechanisms to share data.\n",
    "    Bypasses Python’s GIL, making it better suited for CPU-intensive tasks (e.g., heavy computations, number crunching).\n",
    "    More system resource consumption since each process needs separate memory allocation\n",
    "\n",
    "Conclusion: on pc app it does not matter much since the pc can handle either. on Ti side it does matter since it has limited power. we might need to look into proper concurrency on Ti side with C (most likely the case so run some tests later) "
   ]
  },
  {
   "cell_type": "markdown",
   "metadata": {},
   "source": [
    "pyqtSignal: \n",
    "allows for comms between objects in a thread safe manner. sounds like the multiprocessing queue\n",
    "They are the same high level Idea but multiprocessing is for processes ofc and qthread is for qt gui based threads. course"
   ]
  },
  {
   "cell_type": "code",
   "execution_count": null,
   "metadata": {},
   "outputs": [],
   "source": [
    "    async def receive_telemetry(self):\n",
    "        \"\"\"Connects to the WebSocket server and receives telemetry data asynchronously.\"\"\"\n",
    "        uri = \"ws://192.168.2.2:5003\"  # TI board's IP address\n",
    "\n",
    "        try:\n",
    "            async with websockets.connect(uri) as websocket:\n",
    "                print(f\"Connected to {uri}\")\n"
   ]
  },
  {
   "cell_type": "markdown",
   "metadata": {},
   "source": [
    "async\n",
    "in py is part of std lib. it needs an await keyword so it knows what to wait for\n",
    "\n",
    "asyncio provides cooperative multitasking: tasks yield control when they await, allowing other tasks to run.\n",
    "QThread provides preemptive multitasking: the OS schedules threads separately.\n",
    "If you’re using Qt, asyncio can conflict with the Qt event loop. You may need QEventLoop or asyncqt to integrate them.\n",
    "\n",
    "- \n",
    "\n",
    "- async def receive_telemetry(self): This is an asynchronous method that will handle the WebSocket communication.\n",
    "- uri = \"ws://192.168.2.2:5003\": This is the WebSocket URI (the address of the TI board’s WebSocket server). Change it to your device's IP if needed.\n",
    "- async with websockets.connect(uri) as websocket:: This establishes a WebSocket connection asynchronously. The async with ensures that the connection is properly closed after the code block finishes executing.\n",
    "- print(f\"Connected to {uri}\"): A simple log message indicating that the connection has been successfully established."
   ]
  },
  {
   "cell_type": "markdown",
   "metadata": {},
   "source": [
    "Looking at the async with x as y \n",
    "\n",
    "x as y\n",
    "- y is what x.++aenter++() returns so it could be different than x\n",
    "- \n",
    "turns out it is about proper cleanup "
   ]
  },
  {
   "cell_type": "code",
   "execution_count": null,
   "metadata": {},
   "outputs": [],
   "source": [
    "async with websockets.connect(uri) as websocket:\n",
    "    print(f\"Connected to {uri}\")\n",
    "\n",
    "##### is equivalent to:\n",
    "\n",
    "conn = await websockets.connect(uri)\n",
    "try:\n",
    "    websocket = conn  # Assign alias\n",
    "    print(f\"Connected to {uri}\")\n",
    "finally:\n",
    "    await conn.__aexit__(None, None, None)  # Ensure cleanup"
   ]
  },
  {
   "cell_type": "markdown",
   "metadata": {},
   "source": [
    "ok under the hood explanation \n",
    "What happens under the hood:\n",
    "\n",
    "    websockets.connect(uri) creates a WebSocket connection object.\n",
    "    Python calls connection.__aenter__(), which:\n",
    "        Waits for the connection to be established (await).\n",
    "        Returns the active WebSocket object (websocket).\n",
    "    Inside the block, websocket is now ready to use.\n",
    "    When the block exits, Python calls connection.__aexit__(), which:\n",
    "        Closes the WebSocket properly (await ensures async cleanup)."
   ]
  },
  {
   "cell_type": "markdown",
   "metadata": {},
   "source": [
    "# next section"
   ]
  },
  {
   "cell_type": "code",
   "execution_count": null,
   "metadata": {},
   "outputs": [],
   "source": [
    "                while True:\n",
    "                    message = await websocket.recv()\n",
    "                    data = json.loads(message)\n",
    "\n",
    "                    latency = data.get(\"latency\", 0)\n",
    "                    battery = data.get(\"battery\", 0)\n",
    "                    status = data.get(\"status\", \"N/A\")\n",
    "\n",
    "                    self.telemetry_received.emit(status, f\"{battery:.1f}%\", f\"{latency:.2f} ms\")  # Send to UI\n"
   ]
  },
  {
   "cell_type": "markdown",
   "metadata": {},
   "source": [
    "the args in the data.get() are default vals in case no data is received "
   ]
  },
  {
   "cell_type": "markdown",
   "metadata": {},
   "source": [
    "await \n",
    "- await pauses execution of the coroutine until the awaited task is done, without blocking the entire program.\n",
    "- ok so we have a coroutine runing and that part pauses. so it is sort of like having a pause in a diff process. only that process gets paused while the other continue. nonblocking pausing basically. \n",
    "\n",
    "No. Each await statement only waits for one specific async task.\n",
    "\n",
    "    await websocket.recv() only waits for the next WebSocket message.\n",
    "\n",
    "- the loop starts and hits await websocket.recv().\n",
    "- await pauses execution of the function until a message is received.\n",
    "- Meanwhile, other async tasks can run (e.g., UI updates, network events).\n",
    "- When the WebSocket receives a message, await resumes execution.\n",
    "- The message is converted into JSON, and telemetry_received.emit() sends data to the UI.\n",
    "- Loop repeats → waits again at await websocket.recv().\n",
    "\n",
    "\n",
    "\n"
   ]
  },
  {
   "cell_type": "code",
   "execution_count": null,
   "metadata": {},
   "outputs": [],
   "source": [
    "self.telemetry_received.emit(status, f\"{battery:.1f}%\", f\"{latency:.2f} ms\")  # Send to UI"
   ]
  },
  {
   "cell_type": "markdown",
   "metadata": {},
   "source": [
    "Understanding emit in PyQt\n",
    "\n",
    "- Signals and Slots: Qt uses a signal and slot mechanism to handle communication between objects. A signal is emitted when a particular event occurs, and a slot is a function that responds to that signal.\n",
    "\n",
    "- emit: The emit method is used to trigger the signal, passing the necessary arguments to any connected slots. In your code, self.telemetry_received.emit(...) sends the status, battery, and latency data to any function connected to the telemetry_received sign\n",
    "\n",
    "- ok all this to saw that the telemetry_received var was defined as a signal here \n",
    "    - telemetry_received = pyqtSignal(str, str, str)  # Emit status, battery, latency\n",
    "- and anything can emit to this signal as long as it has the 3 args\n",
    "    - that signal then receives the data emitted then it can do whatever with it like put it on the gui\n",
    "\n",
    "# to be clear regarding emit, pyqtsignal and connect\n",
    "- defining the signal is here\n",
    "    - telemetry_received = pyqtSignal(str, str, str)  # Defines the signal\n",
    "- emitting the signal is her e\n",
    "    - self.telemetry_received.emit(status, f\"{battery:.1f}%\", f\"{latency:.2f} ms\")  # Send to UI\n",
    "- receiving the signal is here \n",
    "    - self.websocket_thread.telemetry_received.connect(self.update_telemetry)\n",
    "\n"
   ]
  },
  {
   "cell_type": "code",
   "execution_count": null,
   "metadata": {},
   "outputs": [],
   "source": [
    "class TelemetryApp(QWidget):\n",
    "    def __init__(self):\n",
    "        super().__init__()\n",
    "        self.initUI()\n",
    "\n",
    "        # Start WebSocket thread\n",
    "        self.websocket_thread = WebSocketThread()\n",
    "        self.websocket_thread.telemetry_received.connect(self.update_telemetry)\n",
    "        self.websocket_thread.start()\n"
   ]
  },
  {
   "cell_type": "markdown",
   "metadata": {},
   "source": [
    "- class TelemetryApp(QWidget): This is the main GUI application class, which inherits from QWidget (the base class for all PyQt widgets).\n",
    "- self.initUI(): This method initializes the GUI components.\n",
    "= self.websocket_thread = WebSocketThread(): Creates an instance of the WebSocketThread class that will handle the WebSocket communication in a separate thread.\n",
    "= self.websocket_thread.telemetry_received.connect(self.update_telemetry): Connects the telemetry_received signal from the WebSocket thread to the update_telemetry method. This means every time the thread emits new telemetry data, update_telemetry will be called.\n",
    "- self.websocket_thread.start(): Starts the WebSocket thread.\n",
    "\n"
   ]
  },
  {
   "cell_type": "code",
   "execution_count": null,
   "metadata": {},
   "outputs": [],
   "source": [
    "    def initUI(self):\n",
    "        layout = QVBoxLayout()\n",
    "\n",
    "        self.status_label = QLabel(\"Status: N/A\", self)\n",
    "        self.battery_label = QLabel(\"Battery: N/A\", self)\n",
    "        self.latency_label = QLabel(\"Latency: N/A\", self)\n",
    "\n",
    "        layout.addWidget(self.status_label)\n",
    "        layout.addWidget(self.battery_label)\n",
    "        layout.addWidget(self.latency_label)\n",
    "\n",
    "        self.setLayout(layout)\n",
    "        self.setWindowTitle(\"Telemetry Monitor\")\n",
    "        self.resize(300, 200)\n"
   ]
  },
  {
   "cell_type": "markdown",
   "metadata": {},
   "source": [
    "sets up the layout and the widgets we use"
   ]
  },
  {
   "cell_type": "code",
   "execution_count": null,
   "metadata": {},
   "outputs": [],
   "source": [
    "    def update_telemetry(self, status, battery, latency):\n",
    "        \"\"\"Update telemetry labels in the UI.\"\"\"\n",
    "        self.status_label.setText(f\"Status: {status}\")\n",
    "        self.battery_label.setText(f\"Battery: {battery}\")\n",
    "        self.latency_label.setText(f\"Latency: {latency}\")\n",
    "\n",
    "        print(f\"Updated UI -> Status: {status}, Battery: {battery}, Latency: {latency}\")  # Debugging\n"
   ]
  },
  {
   "cell_type": "markdown",
   "metadata": {},
   "source": [
    "the function above is connected to telemetry_received from this line below in the contructor of TelemetryApp\n",
    "- self.websocket_thread.telemetry_received.connect(self.update_telemetry)\n",
    "\n"
   ]
  },
  {
   "cell_type": "markdown",
   "metadata": {},
   "source": [
    "# Why use async inside a thread? \n",
    "\n",
    "1. async is needed for WebSockets in this case because:\n",
    "    - The websockets library is designed to be async-first and requires an asyncio event loop.\n",
    "    websockets.connect() and websocket.recv() must be awaited inside an async function.\n",
    "\n",
    "2. A QThread runs its run() method in a separate thread, so it won’t block the main thread.\n",
    "    - But QThread itself is not async. It just runs synchronously in another thread\n",
    "\n",
    "ok so we need async behaviour but threading does not provide this"
   ]
  }
 ],
 "metadata": {
  "kernelspec": {
   "display_name": "Python 3",
   "language": "python",
   "name": "python3"
  },
  "language_info": {
   "codemirror_mode": {
    "name": "ipython",
    "version": 3
   },
   "file_extension": ".py",
   "mimetype": "text/x-python",
   "name": "python",
   "nbconvert_exporter": "python",
   "pygments_lexer": "ipython3",
   "version": "3.10.12"
  }
 },
 "nbformat": 4,
 "nbformat_minor": 2
}
