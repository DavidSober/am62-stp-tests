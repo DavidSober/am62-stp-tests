{
 "cells": [
  {
   "cell_type": "markdown",
   "metadata": {},
   "source": [
    "# Websockets "
   ]
  },
  {
   "cell_type": "code",
   "execution_count": 1,
   "metadata": {},
   "outputs": [
    {
     "name": "stderr",
     "output_type": "stream",
     "text": [
      "QSocketNotifier: Can only be used with threads started with QThread\n"
     ]
    },
    {
     "ename": "SystemExit",
     "evalue": "0",
     "output_type": "error",
     "traceback": [
      "An exception has occurred, use %tb to see the full traceback.\n",
      "\u001b[0;31mSystemExit\u001b[0m\u001b[0;31m:\u001b[0m 0\n"
     ]
    },
    {
     "name": "stderr",
     "output_type": "stream",
     "text": [
      "/home/davidsober/.local/lib/python3.10/site-packages/IPython/core/interactiveshell.py:3587: UserWarning: To exit: use 'exit', 'quit', or Ctrl-D.\n",
      "  warn(\"To exit: use 'exit', 'quit', or Ctrl-D.\", stacklevel=1)\n"
     ]
    },
    {
     "name": "stdout",
     "output_type": "stream",
     "text": [
      "WebSocket error: timed out during opening handshake\n"
     ]
    }
   ],
   "source": [
    "import sys\n",
    "import asyncio\n",
    "import websockets\n",
    "import json\n",
    "from PyQt5.QtWidgets import QApplication, QWidget, QVBoxLayout, QLabel\n",
    "from PyQt5.QtCore import QThread, pyqtSignal\n",
    "\n",
    "\n",
    "class WebSocketThread(QThread):\n",
    "    \"\"\"Handles WebSocket connection in a separate thread to avoid freezing the UI.\"\"\"\n",
    "    telemetry_received = pyqtSignal(str, str, str)  # Emit status, battery, latency\n",
    "\n",
    "    async def receive_telemetry(self):\n",
    "        \"\"\"Connects to the WebSocket server and receives telemetry data asynchronously.\"\"\"\n",
    "        uri = \"ws://192.168.2.2:5003\"  # TI board's IP address\n",
    "\n",
    "        try:\n",
    "            async with websockets.connect(uri) as websocket:\n",
    "                print(f\"Connected to {uri}\")\n",
    "\n",
    "                while True:\n",
    "                    message = await websocket.recv()\n",
    "                    data = json.loads(message)\n",
    "\n",
    "                    latency = data.get(\"latency\", 0)\n",
    "                    battery = data.get(\"battery\", 0)\n",
    "                    status = data.get(\"status\", \"N/A\")\n",
    "\n",
    "                    self.telemetry_received.emit(status, f\"{battery:.1f}%\", f\"{latency:.2f} ms\")  # Send to UI\n",
    "\n",
    "        except websockets.ConnectionClosed:\n",
    "            print(\"Connection closed\")\n",
    "        except Exception as e:\n",
    "            print(f\"WebSocket error: {e}\")\n",
    "\n",
    "    def run(self):\n",
    "        \"\"\"Runs the WebSocket event loop inside QThread.\"\"\"\n",
    "        loop = asyncio.new_event_loop()\n",
    "        asyncio.set_event_loop(loop)\n",
    "        loop.run_until_complete(self.receive_telemetry())\n",
    "\n",
    "\n",
    "class TelemetryApp(QWidget):\n",
    "    def __init__(self):\n",
    "        super().__init__()\n",
    "        self.initUI()\n",
    "\n",
    "        # Start WebSocket thread\n",
    "        self.websocket_thread = WebSocketThread()\n",
    "        self.websocket_thread.telemetry_received.connect(self.update_telemetry)\n",
    "        self.websocket_thread.start()\n",
    "\n",
    "    def initUI(self):\n",
    "        layout = QVBoxLayout()\n",
    "\n",
    "        self.status_label = QLabel(\"Status: N/A\", self)\n",
    "        self.battery_label = QLabel(\"Battery: N/A\", self)\n",
    "        self.latency_label = QLabel(\"Latency: N/A\", self)\n",
    "\n",
    "        layout.addWidget(self.status_label)\n",
    "        layout.addWidget(self.battery_label)\n",
    "        layout.addWidget(self.latency_label)\n",
    "\n",
    "        self.setLayout(layout)\n",
    "        self.setWindowTitle(\"Telemetry Monitor\")\n",
    "        self.resize(300, 200)\n",
    "\n",
    "    def update_telemetry(self, status, battery, latency):\n",
    "        \"\"\"Update telemetry labels in the UI.\"\"\"\n",
    "        self.status_label.setText(f\"Status: {status}\")\n",
    "        self.battery_label.setText(f\"Battery: {battery}\")\n",
    "        self.latency_label.setText(f\"Latency: {latency}\")\n",
    "\n",
    "        print(f\"Updated UI -> Status: {status}, Battery: {battery}, Latency: {latency}\")  # Debugging\n",
    "\n",
    "\n",
    "if __name__ == \"__main__\":\n",
    "    app = QApplication(sys.argv)\n",
    "    window = TelemetryApp()\n",
    "    window.show()\n",
    "    sys.exit(app.exec())\n"
   ]
  },
  {
   "cell_type": "markdown",
   "metadata": {},
   "source": []
  },
  {
   "cell_type": "code",
   "execution_count": null,
   "metadata": {},
   "outputs": [],
   "source": [
    "class WebSocketThread(QThread):\n",
    "    \"\"\"Handles WebSocket connection in a separate thread to avoid freezing the UI.\"\"\"\n",
    "    telemetry_received = pyqtSignal(str, str, str)  # Emit status, battery, latency\n"
   ]
  }
 ],
 "metadata": {
  "kernelspec": {
   "display_name": "Python 3",
   "language": "python",
   "name": "python3"
  },
  "language_info": {
   "codemirror_mode": {
    "name": "ipython",
    "version": 3
   },
   "file_extension": ".py",
   "mimetype": "text/x-python",
   "name": "python",
   "nbconvert_exporter": "python",
   "pygments_lexer": "ipython3",
   "version": "3.10.12"
  }
 },
 "nbformat": 4,
 "nbformat_minor": 2
}
