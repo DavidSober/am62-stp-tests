{
 "cells": [
  {
   "cell_type": "markdown",
   "metadata": {},
   "source": [
    "![Alt Text](CC3351.png)\n"
   ]
  },
  {
   "cell_type": "markdown",
   "metadata": {},
   "source": [
    "DMA (Direct Memory Access)\n",
    "\n",
    "    This allows the Wi-Fi and BLE module to transfer data directly between memory and peripherals without involving the CPU. This improves performance and reduces power consumption.\n",
    "\n",
    "Crypto (Cryptographic Engine)\n",
    "\n",
    "    Provides hardware acceleration for encryption and decryption algorithms, ensuring secure communication for Wi-Fi and BLE connections. It likely supports protocols such as WPA3 for Wi-Fi security and AES encryption for BLE.\n",
    "\n",
    "ELP (Enhanced Low Power)\n",
    "\n",
    "    A power management feature that optimizes energy consumption, allowing the module to maintain low-power states when not actively transmitting data.\n",
    "\n",
    "MAC / Modem (Medium Access Control & Modulator-Demodulator)\n",
    "\n",
    "    The Wi-Fi MAC / Modem and BLE MAC / Modem handle the communication protocol stacks and modulation/demodulation for each respective wireless standard.\n",
    "    MAC (Medium Access Control): Manages how data is transmitted over the air, controlling access to the wireless medium.\n",
    "    Modem (Modulator-Demodulator): Converts digital data into radio signals for transmission and vice versa for reception.\n",
    "\n",
    "BLE (Bluetooth Low Energy)\n",
    "\n",
    "\n",
    "    A low-power wireless communication technology optimized for short-range data exchange. It allows devices to communicate using minimal power, making it ideal for IoT applications."
   ]
  },
  {
   "cell_type": "markdown",
   "metadata": {},
   "source": [
    "# MAC vs MAC address\n",
    "\n",
    "What is MAC (Medium Access Control)?\n",
    "\n",
    "MAC is a sub-layer of the Data Link Layer (Layer 2) in the OSI model. Its job is to control how data is transmitted over a shared medium (like Wi-Fi or Ethernet). It determines:\n",
    "\n",
    "    Who gets to talk and when – Since multiple devices can be connected to the same medium, MAC protocols manage access to avoid collisions.\n",
    "    Framing and addressing – It structures data into frames and assigns each device a unique address (MAC address).\n",
    "    Error detection – It helps detect errors in transmission and ensures reliable communication.\n",
    "\n",
    "MAC is implemented in hardware and firmware, meaning that every Wi-Fi or Bluetooth chip has a MAC controller responsible for handling transmissions.\n",
    "2. What is a MAC Address?\n",
    "\n",
    "A MAC address (Media Access Control address) is a unique identifier assigned to a network interface card (NIC) by the manufacturer. Think of it like a serial number but for networking."
   ]
  },
  {
   "cell_type": "code",
   "execution_count": null,
   "metadata": {
    "vscode": {
     "languageId": "plaintext"
    }
   },
   "outputs": [],
   "source": []
  }
 ],
 "metadata": {
  "language_info": {
   "name": "python"
  }
 },
 "nbformat": 4,
 "nbformat_minor": 2
}
